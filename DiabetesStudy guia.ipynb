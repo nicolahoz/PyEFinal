{
 "cells": [
  {
   "cell_type": "markdown",
   "metadata": {},
   "source": [
    "# Librerías utilizadas:"
   ]
  },
  {
   "cell_type": "code",
   "execution_count": 324,
   "metadata": {},
   "outputs": [],
   "source": [
    "import pandas as pd\n",
    "import scipy.stats as stats\n",
    "import matplotlib.pyplot as plt\n",
    "import statsmodels.api as sm\n",
    "import statsmodels.formula.api as smf\n",
    "from statsmodels.stats.anova import anova_lm\n",
    "import seaborn as sns\n",
    "from statsmodels.stats.multicomp import pairwise_tukeyhsd"
   ]
  },
  {
   "cell_type": "markdown",
   "metadata": {},
   "source": [
    "# Importación de data set"
   ]
  },
  {
   "cell_type": "code",
   "execution_count": 325,
   "metadata": {},
   "outputs": [
    {
     "data": {
      "text/html": [
       "<div>\n",
       "<style scoped>\n",
       "    .dataframe tbody tr th:only-of-type {\n",
       "        vertical-align: middle;\n",
       "    }\n",
       "\n",
       "    .dataframe tbody tr th {\n",
       "        vertical-align: top;\n",
       "    }\n",
       "\n",
       "    .dataframe thead th {\n",
       "        text-align: right;\n",
       "    }\n",
       "</style>\n",
       "<table border=\"1\" class=\"dataframe\">\n",
       "  <thead>\n",
       "    <tr style=\"text-align: right;\">\n",
       "      <th></th>\n",
       "      <th>Pregnancies</th>\n",
       "      <th>Glucose</th>\n",
       "      <th>BloodPressure</th>\n",
       "      <th>SkinThickness</th>\n",
       "      <th>Insulin</th>\n",
       "      <th>BMI</th>\n",
       "      <th>DiabetesPedigreeFunction</th>\n",
       "      <th>Age</th>\n",
       "      <th>Outcome</th>\n",
       "    </tr>\n",
       "  </thead>\n",
       "  <tbody>\n",
       "    <tr>\n",
       "      <th>0</th>\n",
       "      <td>6</td>\n",
       "      <td>148</td>\n",
       "      <td>72</td>\n",
       "      <td>35</td>\n",
       "      <td>0</td>\n",
       "      <td>33.6</td>\n",
       "      <td>0.627</td>\n",
       "      <td>50</td>\n",
       "      <td>1</td>\n",
       "    </tr>\n",
       "    <tr>\n",
       "      <th>1</th>\n",
       "      <td>1</td>\n",
       "      <td>85</td>\n",
       "      <td>66</td>\n",
       "      <td>29</td>\n",
       "      <td>0</td>\n",
       "      <td>26.6</td>\n",
       "      <td>0.351</td>\n",
       "      <td>31</td>\n",
       "      <td>0</td>\n",
       "    </tr>\n",
       "    <tr>\n",
       "      <th>2</th>\n",
       "      <td>8</td>\n",
       "      <td>183</td>\n",
       "      <td>64</td>\n",
       "      <td>0</td>\n",
       "      <td>0</td>\n",
       "      <td>23.3</td>\n",
       "      <td>0.672</td>\n",
       "      <td>32</td>\n",
       "      <td>1</td>\n",
       "    </tr>\n",
       "    <tr>\n",
       "      <th>3</th>\n",
       "      <td>1</td>\n",
       "      <td>89</td>\n",
       "      <td>66</td>\n",
       "      <td>23</td>\n",
       "      <td>94</td>\n",
       "      <td>28.1</td>\n",
       "      <td>0.167</td>\n",
       "      <td>21</td>\n",
       "      <td>0</td>\n",
       "    </tr>\n",
       "    <tr>\n",
       "      <th>4</th>\n",
       "      <td>0</td>\n",
       "      <td>137</td>\n",
       "      <td>40</td>\n",
       "      <td>35</td>\n",
       "      <td>168</td>\n",
       "      <td>43.1</td>\n",
       "      <td>2.288</td>\n",
       "      <td>33</td>\n",
       "      <td>1</td>\n",
       "    </tr>\n",
       "  </tbody>\n",
       "</table>\n",
       "</div>"
      ],
      "text/plain": [
       "   Pregnancies  Glucose  BloodPressure  SkinThickness  Insulin   BMI  \\\n",
       "0            6      148             72             35        0  33.6   \n",
       "1            1       85             66             29        0  26.6   \n",
       "2            8      183             64              0        0  23.3   \n",
       "3            1       89             66             23       94  28.1   \n",
       "4            0      137             40             35      168  43.1   \n",
       "\n",
       "   DiabetesPedigreeFunction  Age  Outcome  \n",
       "0                     0.627   50        1  \n",
       "1                     0.351   31        0  \n",
       "2                     0.672   32        1  \n",
       "3                     0.167   21        0  \n",
       "4                     2.288   33        1  "
      ]
     },
     "execution_count": 325,
     "metadata": {},
     "output_type": "execute_result"
    }
   ],
   "source": [
    "data = pd.read_csv('c:\\\\Users\\\\Nico\\\\Desktop\\\\PyE/diabetes.csv')\n",
    "data.head()"
   ]
  },
  {
   "cell_type": "code",
   "execution_count": 326,
   "metadata": {},
   "outputs": [
    {
     "data": {
      "text/html": [
       "<div>\n",
       "<style scoped>\n",
       "    .dataframe tbody tr th:only-of-type {\n",
       "        vertical-align: middle;\n",
       "    }\n",
       "\n",
       "    .dataframe tbody tr th {\n",
       "        vertical-align: top;\n",
       "    }\n",
       "\n",
       "    .dataframe thead th {\n",
       "        text-align: right;\n",
       "    }\n",
       "</style>\n",
       "<table border=\"1\" class=\"dataframe\">\n",
       "  <thead>\n",
       "    <tr style=\"text-align: right;\">\n",
       "      <th></th>\n",
       "      <th>Pregnancies</th>\n",
       "      <th>Glucose</th>\n",
       "      <th>BloodPressure</th>\n",
       "      <th>SkinThickness</th>\n",
       "      <th>Insulin</th>\n",
       "      <th>BMI</th>\n",
       "      <th>DiabetesPedigreeFunction</th>\n",
       "      <th>Age</th>\n",
       "      <th>Outcome</th>\n",
       "    </tr>\n",
       "  </thead>\n",
       "  <tbody>\n",
       "    <tr>\n",
       "      <th>count</th>\n",
       "      <td>768.000000</td>\n",
       "      <td>768.000000</td>\n",
       "      <td>768.000000</td>\n",
       "      <td>768.000000</td>\n",
       "      <td>768.000000</td>\n",
       "      <td>768.000000</td>\n",
       "      <td>768.000000</td>\n",
       "      <td>768.000000</td>\n",
       "      <td>768.000000</td>\n",
       "    </tr>\n",
       "    <tr>\n",
       "      <th>mean</th>\n",
       "      <td>3.845052</td>\n",
       "      <td>120.894531</td>\n",
       "      <td>69.105469</td>\n",
       "      <td>20.536458</td>\n",
       "      <td>79.799479</td>\n",
       "      <td>31.992578</td>\n",
       "      <td>0.471876</td>\n",
       "      <td>33.240885</td>\n",
       "      <td>0.348958</td>\n",
       "    </tr>\n",
       "    <tr>\n",
       "      <th>std</th>\n",
       "      <td>3.369578</td>\n",
       "      <td>31.972618</td>\n",
       "      <td>19.355807</td>\n",
       "      <td>15.952218</td>\n",
       "      <td>115.244002</td>\n",
       "      <td>7.884160</td>\n",
       "      <td>0.331329</td>\n",
       "      <td>11.760232</td>\n",
       "      <td>0.476951</td>\n",
       "    </tr>\n",
       "    <tr>\n",
       "      <th>min</th>\n",
       "      <td>0.000000</td>\n",
       "      <td>0.000000</td>\n",
       "      <td>0.000000</td>\n",
       "      <td>0.000000</td>\n",
       "      <td>0.000000</td>\n",
       "      <td>0.000000</td>\n",
       "      <td>0.078000</td>\n",
       "      <td>21.000000</td>\n",
       "      <td>0.000000</td>\n",
       "    </tr>\n",
       "    <tr>\n",
       "      <th>25%</th>\n",
       "      <td>1.000000</td>\n",
       "      <td>99.000000</td>\n",
       "      <td>62.000000</td>\n",
       "      <td>0.000000</td>\n",
       "      <td>0.000000</td>\n",
       "      <td>27.300000</td>\n",
       "      <td>0.243750</td>\n",
       "      <td>24.000000</td>\n",
       "      <td>0.000000</td>\n",
       "    </tr>\n",
       "    <tr>\n",
       "      <th>50%</th>\n",
       "      <td>3.000000</td>\n",
       "      <td>117.000000</td>\n",
       "      <td>72.000000</td>\n",
       "      <td>23.000000</td>\n",
       "      <td>30.500000</td>\n",
       "      <td>32.000000</td>\n",
       "      <td>0.372500</td>\n",
       "      <td>29.000000</td>\n",
       "      <td>0.000000</td>\n",
       "    </tr>\n",
       "    <tr>\n",
       "      <th>75%</th>\n",
       "      <td>6.000000</td>\n",
       "      <td>140.250000</td>\n",
       "      <td>80.000000</td>\n",
       "      <td>32.000000</td>\n",
       "      <td>127.250000</td>\n",
       "      <td>36.600000</td>\n",
       "      <td>0.626250</td>\n",
       "      <td>41.000000</td>\n",
       "      <td>1.000000</td>\n",
       "    </tr>\n",
       "    <tr>\n",
       "      <th>max</th>\n",
       "      <td>17.000000</td>\n",
       "      <td>199.000000</td>\n",
       "      <td>122.000000</td>\n",
       "      <td>99.000000</td>\n",
       "      <td>846.000000</td>\n",
       "      <td>67.100000</td>\n",
       "      <td>2.420000</td>\n",
       "      <td>81.000000</td>\n",
       "      <td>1.000000</td>\n",
       "    </tr>\n",
       "  </tbody>\n",
       "</table>\n",
       "</div>"
      ],
      "text/plain": [
       "       Pregnancies     Glucose  BloodPressure  SkinThickness     Insulin  \\\n",
       "count   768.000000  768.000000     768.000000     768.000000  768.000000   \n",
       "mean      3.845052  120.894531      69.105469      20.536458   79.799479   \n",
       "std       3.369578   31.972618      19.355807      15.952218  115.244002   \n",
       "min       0.000000    0.000000       0.000000       0.000000    0.000000   \n",
       "25%       1.000000   99.000000      62.000000       0.000000    0.000000   \n",
       "50%       3.000000  117.000000      72.000000      23.000000   30.500000   \n",
       "75%       6.000000  140.250000      80.000000      32.000000  127.250000   \n",
       "max      17.000000  199.000000     122.000000      99.000000  846.000000   \n",
       "\n",
       "              BMI  DiabetesPedigreeFunction         Age     Outcome  \n",
       "count  768.000000                768.000000  768.000000  768.000000  \n",
       "mean    31.992578                  0.471876   33.240885    0.348958  \n",
       "std      7.884160                  0.331329   11.760232    0.476951  \n",
       "min      0.000000                  0.078000   21.000000    0.000000  \n",
       "25%     27.300000                  0.243750   24.000000    0.000000  \n",
       "50%     32.000000                  0.372500   29.000000    0.000000  \n",
       "75%     36.600000                  0.626250   41.000000    1.000000  \n",
       "max     67.100000                  2.420000   81.000000    1.000000  "
      ]
     },
     "execution_count": 326,
     "metadata": {},
     "output_type": "execute_result"
    }
   ],
   "source": [
    "data.describe()"
   ]
  },
  {
   "cell_type": "markdown",
   "metadata": {},
   "source": [
    "# Visualización de la distribución de variables\n",
    "* Histograma de las distintas variables"
   ]
  },
  {
   "cell_type": "code",
   "execution_count": 327,
   "metadata": {},
   "outputs": [
    {
     "data": {
      "image/png": "[encoded data removed]",
      "text/plain": [
       "<Figure size 1400x1000 with 9 Axes>"
      ]
     },
     "metadata": {},
     "output_type": "display_data"
    }
   ],
   "source": [
    "data.hist(bins=20, figsize=(14,10))\n",
    "plt.show()"
   ]
  },
  {
   "cell_type": "markdown",
   "metadata": {},
   "source": [
    "# Prueba T-Student\n",
    "* Esta prueba indica que la diferencia en los niveles de glucosa entre los distintos pacientes tengan o no diabetes es grande\n",
    "* Es significativa debido al p-value"
   ]
  },
  {
   "cell_type": "code",
   "execution_count": 328,
   "metadata": {},
   "outputs": [
    {
     "name": "stdout",
     "output_type": "stream",
     "text": [
      "T-statistic: -13.751537067396413, P-value: 2.6441613495403223e-36\n"
     ]
    }
   ],
   "source": [
    "outcome_0 = data[data['Outcome'] == 0]\n",
    "outcome_1 = data[data['Outcome'] == 1]\n",
    "\n",
    "t_stat, p_val = stats.ttest_ind(outcome_0['Glucose'], outcome_1['Glucose'], equal_var=False)\n",
    "print(f'T-statistic: {t_stat}, P-value: {p_val}')"
   ]
  },
  {
   "cell_type": "code",
   "execution_count": 329,
   "metadata": {},
   "outputs": [
    {
     "data": {
      "text/plain": [
       "-13.751537067396413"
      ]
     },
     "execution_count": 329,
     "metadata": {},
     "output_type": "execute_result"
    }
   ],
   "source": [
    "import numpy as np\n",
    "\n",
    "mean_0 = np.mean(outcome_0['Glucose'])\n",
    "mean_1 = np.mean(outcome_1['Glucose'])\n",
    "\n",
    "std_0 = np.std(outcome_0['Glucose'], ddof=1)\n",
    "std_1 = np.std(outcome_1['Glucose'], ddof=1)\n",
    "\n",
    "n_0 = len(outcome_0['Glucose'])\n",
    "n_1 = len(outcome_1['Glucose'])\n",
    "\n",
    "t_stat_manual = (mean_0 - mean_1) / np.sqrt((std_0**2 / n_0) + (std_1**2 / n_1))\n",
    "\n",
    "t_stat_manual"
   ]
  },
  {
   "cell_type": "code",
   "execution_count": 330,
   "metadata": {},
   "outputs": [
    {
     "data": {
      "text/plain": [
       "2.6441613495402468e-36"
      ]
     },
     "execution_count": 330,
     "metadata": {},
     "output_type": "execute_result"
    }
   ],
   "source": [
    "numerator = ((std_0**2 / n_0) + (std_1**2 / n_1))**2\n",
    "denominator = ((std_0**2 / n_0)**2 / (n_0 - 1)) + ((std_1**2 / n_1)**2 / (n_1 - 1))\n",
    "df = numerator / denominator\n",
    "\n",
    "t_stat_manual = (mean_0 - mean_1) / np.sqrt((std_0**2 / n_0) + (std_1**2 / n_1))\n",
    "\n",
    "p_value_manual = stats.t.cdf(t_stat_manual, df) * 2  \n",
    "\n",
    "p_value_manual\n"
   ]
  },
  {
   "cell_type": "markdown",
   "metadata": {},
   "source": [
    "# Prueba Chi-Cuadrado\n",
    "\n",
    "* La salida indica la magnitud de la asociacion entre las dos variables en la tabla de contingencia\n",
    "* Si bien esta prueba se usa para variables categoricas generalmente, una variable puede ser agrupada en categorias que cumplan la misma funcion\n"
   ]
  },
  {
   "cell_type": "code",
   "execution_count": 331,
   "metadata": {},
   "outputs": [
    {
     "name": "stdout",
     "output_type": "stream",
     "text": [
      "Outcome        0    1\n",
      "Glucose_Cat          \n",
      "<=100        191   18\n",
      "101-150      271  143\n",
      ">150          35  105\n",
      "\n",
      "Chi2: 162.7583125903085, P-value: 4.5444515652257305e-36\n",
      "\n"
     ]
    }
   ],
   "source": [
    "data['Glucose_Cat'] = pd.cut(data['Glucose'], bins=[0, 100, 150, data['Glucose'].max() + 1], labels=['<=100', '101-150', '>150'])\n",
    "\n",
    "contingency_table_glucose = pd.crosstab(data['Glucose_Cat'], data['Outcome'])\n",
    "chi2_glucose, p_glucose, dof_glucose, expected_glucose = stats.chi2_contingency(contingency_table_glucose)\n",
    "\n",
    "print(contingency_table_glucose)\n",
    "print(f\"\\nChi2: {chi2_glucose}, P-value: {p_glucose}\\n\")"
   ]
  },
  {
   "cell_type": "code",
   "execution_count": 332,
   "metadata": {},
   "outputs": [
    {
     "name": "stdout",
     "output_type": "stream",
     "text": [
      "Frecuencias Observadas:\n",
      "[[191  18]\n",
      " [271 143]\n",
      " [ 35 105]]\n",
      "\n",
      "Frecuencias Esperadas:\n",
      "[[136.13761468  72.86238532]\n",
      " [269.66972477 144.33027523]\n",
      " [ 91.19266055  48.80733945]]\n",
      "\n",
      "Chi2: 162.7583125903085\n",
      "P-value: 0.0\n",
      "Grados de Libertad (dof): 2\n"
     ]
    }
   ],
   "source": [
    "\n",
    "observed = np.array([\n",
    "    [191, 18],\n",
    "    [271, 143],\n",
    "    [35, 105]\n",
    "])\n",
    "\n",
    "row_totals = observed.sum(axis=1)\n",
    "col_totals = observed.sum(axis=0)\n",
    "total = observed.sum()\n",
    "\n",
    "expected = np.outer(row_totals, col_totals) / total\n",
    "\n",
    "chi2_value = ((observed - expected) ** 2 / expected).sum()\n",
    "\n",
    "dof = (observed.shape[0] - 1) * (observed.shape[1] - 1)\n",
    "\n",
    "p_value = 1 - stats.chi2.cdf(chi2_value, dof)\n",
    "\n",
    "print(f\"Frecuencias Observadas:\\n{observed}\\n\")\n",
    "print(f\"Frecuencias Esperadas:\\n{expected}\\n\")\n",
    "print(f\"Chi2: {chi2_value}\")\n",
    "print(f\"P-value: {p_value}\")\n",
    "print(f\"Grados de Libertad (dof): {dof}\")"
   ]
  },
  {
   "cell_type": "markdown",
   "metadata": {},
   "source": [
    "# Regresión lineal\n",
    "* Este estudio sirve para entender la relacion entre una variable dependiente y una o mas variables independientes \n",
    "* X: son las variables independientes del modelo\n",
    "* Y: es la variable dependiente que queremos evaluar\n",
    "* R-squared: Indica que porcentaje de la variabilidad en la variable dependiente es explicada por las variables independientes\n",
    "* Adj R-sq: Lo mismo, pero penaliza las independientes no significativas\n",
    "* F-statistic: Estadistica para la significancia global del modelo\n",
    "* Prob (F-statistic): p-value asociado con la estadistica F (valor menor a 0.05 indica que es significativo el modelo)\n",
    "* Df residuals: Grados de libertad del residuo (nro obs - nro de parametros)\n",
    "* Df model: nro de parametros estimados\n",
    "* El coef de cada variable independiente determina cuanto aumenta o disminuye la probabilidad de tener diabetes si aumenta una unidad esa variable."
   ]
  },
  {
   "cell_type": "code",
   "execution_count": 333,
   "metadata": {},
   "outputs": [
    {
     "data": {
      "text/html": [
       "<table class=\"simpletable\">\n",
       "<caption>OLS Regression Results</caption>\n",
       "<tr>\n",
       "  <th>Dep. Variable:</th>         <td>Outcome</td>     <th>  R-squared:         </th> <td>   0.303</td>\n",
       "</tr>\n",
       "<tr>\n",
       "  <th>Model:</th>                   <td>OLS</td>       <th>  Adj. R-squared:    </th> <td>   0.296</td>\n",
       "</tr>\n",
       "<tr>\n",
       "  <th>Method:</th>             <td>Least Squares</td>  <th>  F-statistic:       </th> <td>   41.29</td>\n",
       "</tr>\n",
       "<tr>\n",
       "  <th>Date:</th>             <td>Sun, 28 Jul 2024</td> <th>  Prob (F-statistic):</th> <td>7.36e-55</td>\n",
       "</tr>\n",
       "<tr>\n",
       "  <th>Time:</th>                 <td>18:00:27</td>     <th>  Log-Likelihood:    </th> <td> -381.91</td>\n",
       "</tr>\n",
       "<tr>\n",
       "  <th>No. Observations:</th>      <td>   768</td>      <th>  AIC:               </th> <td>   781.8</td>\n",
       "</tr>\n",
       "<tr>\n",
       "  <th>Df Residuals:</th>          <td>   759</td>      <th>  BIC:               </th> <td>   823.6</td>\n",
       "</tr>\n",
       "<tr>\n",
       "  <th>Df Model:</th>              <td>     8</td>      <th>                     </th>     <td> </td>   \n",
       "</tr>\n",
       "<tr>\n",
       "  <th>Covariance Type:</th>      <td>nonrobust</td>    <th>                     </th>     <td> </td>   \n",
       "</tr>\n",
       "</table>\n",
       "<table class=\"simpletable\">\n",
       "<tr>\n",
       "              <td></td>                <th>coef</th>     <th>std err</th>      <th>t</th>      <th>P>|t|</th>  <th>[0.025</th>    <th>0.975]</th>  \n",
       "</tr>\n",
       "<tr>\n",
       "  <th>const</th>                    <td>   -0.8539</td> <td>    0.085</td> <td>   -9.989</td> <td> 0.000</td> <td>   -1.022</td> <td>   -0.686</td>\n",
       "</tr>\n",
       "<tr>\n",
       "  <th>Pregnancies</th>              <td>    0.0206</td> <td>    0.005</td> <td>    4.014</td> <td> 0.000</td> <td>    0.011</td> <td>    0.031</td>\n",
       "</tr>\n",
       "<tr>\n",
       "  <th>Glucose</th>                  <td>    0.0059</td> <td>    0.001</td> <td>   11.493</td> <td> 0.000</td> <td>    0.005</td> <td>    0.007</td>\n",
       "</tr>\n",
       "<tr>\n",
       "  <th>BloodPressure</th>            <td>   -0.0023</td> <td>    0.001</td> <td>   -2.873</td> <td> 0.004</td> <td>   -0.004</td> <td>   -0.001</td>\n",
       "</tr>\n",
       "<tr>\n",
       "  <th>SkinThickness</th>            <td>    0.0002</td> <td>    0.001</td> <td>    0.139</td> <td> 0.890</td> <td>   -0.002</td> <td>    0.002</td>\n",
       "</tr>\n",
       "<tr>\n",
       "  <th>Insulin</th>                  <td>   -0.0002</td> <td>    0.000</td> <td>   -1.205</td> <td> 0.229</td> <td>   -0.000</td> <td>    0.000</td>\n",
       "</tr>\n",
       "<tr>\n",
       "  <th>BMI</th>                      <td>    0.0132</td> <td>    0.002</td> <td>    6.344</td> <td> 0.000</td> <td>    0.009</td> <td>    0.017</td>\n",
       "</tr>\n",
       "<tr>\n",
       "  <th>DiabetesPedigreeFunction</th> <td>    0.1472</td> <td>    0.045</td> <td>    3.268</td> <td> 0.001</td> <td>    0.059</td> <td>    0.236</td>\n",
       "</tr>\n",
       "<tr>\n",
       "  <th>Age</th>                      <td>    0.0026</td> <td>    0.002</td> <td>    1.693</td> <td> 0.091</td> <td>   -0.000</td> <td>    0.006</td>\n",
       "</tr>\n",
       "</table>\n",
       "<table class=\"simpletable\">\n",
       "<tr>\n",
       "  <th>Omnibus:</th>       <td>41.539</td> <th>  Durbin-Watson:     </th> <td>   1.982</td>\n",
       "</tr>\n",
       "<tr>\n",
       "  <th>Prob(Omnibus):</th> <td> 0.000</td> <th>  Jarque-Bera (JB):  </th> <td>  31.183</td>\n",
       "</tr>\n",
       "<tr>\n",
       "  <th>Skew:</th>          <td> 0.395</td> <th>  Prob(JB):          </th> <td>1.69e-07</td>\n",
       "</tr>\n",
       "<tr>\n",
       "  <th>Kurtosis:</th>      <td> 2.408</td> <th>  Cond. No.          </th> <td>1.10e+03</td>\n",
       "</tr>\n",
       "</table><br/><br/>Notes:<br/>[1] Standard Errors assume that the covariance matrix of the errors is correctly specified.<br/>[2] The condition number is large, 1.1e+03. This might indicate that there are<br/>strong multicollinearity or other numerical problems."
      ],
      "text/latex": [
       "\\begin{center}\n",
       "\\begin{tabular}{lclc}\n",
       "\\toprule\n",
       "\\textbf{Dep. Variable:}           &     Outcome      & \\textbf{  R-squared:         } &     0.303   \\\\\n",
       "\\textbf{Model:}                   &       OLS        & \\textbf{  Adj. R-squared:    } &     0.296   \\\\\n",
       "\\textbf{Method:}                  &  Least Squares   & \\textbf{  F-statistic:       } &     41.29   \\\\\n",
       "\\textbf{Date:}                    & Sun, 28 Jul 2024 & \\textbf{  Prob (F-statistic):} &  7.36e-55   \\\\\n",
       "\\textbf{Time:}                    &     18:00:27     & \\textbf{  Log-Likelihood:    } &   -381.91   \\\\\n",
       "\\textbf{No. Observations:}        &         768      & \\textbf{  AIC:               } &     781.8   \\\\\n",
       "\\textbf{Df Residuals:}            &         759      & \\textbf{  BIC:               } &     823.6   \\\\\n",
       "\\textbf{Df Model:}                &           8      & \\textbf{                     } &             \\\\\n",
       "\\textbf{Covariance Type:}         &    nonrobust     & \\textbf{                     } &             \\\\\n",
       "\\bottomrule\n",
       "\\end{tabular}\n",
       "\\begin{tabular}{lcccccc}\n",
       "                                  & \\textbf{coef} & \\textbf{std err} & \\textbf{t} & \\textbf{P$> |$t$|$} & \\textbf{[0.025} & \\textbf{0.975]}  \\\\\n",
       "\\midrule\n",
       "\\textbf{const}                    &      -0.8539  &        0.085     &    -9.989  &         0.000        &       -1.022    &       -0.686     \\\\\n",
       "\\textbf{Pregnancies}              &       0.0206  &        0.005     &     4.014  &         0.000        &        0.011    &        0.031     \\\\\n",
       "\\textbf{Glucose}                  &       0.0059  &        0.001     &    11.493  &         0.000        &        0.005    &        0.007     \\\\\n",
       "\\textbf{BloodPressure}            &      -0.0023  &        0.001     &    -2.873  &         0.004        &       -0.004    &       -0.001     \\\\\n",
       "\\textbf{SkinThickness}            &       0.0002  &        0.001     &     0.139  &         0.890        &       -0.002    &        0.002     \\\\\n",
       "\\textbf{Insulin}                  &      -0.0002  &        0.000     &    -1.205  &         0.229        &       -0.000    &        0.000     \\\\\n",
       "\\textbf{BMI}                      &       0.0132  &        0.002     &     6.344  &         0.000        &        0.009    &        0.017     \\\\\n",
       "\\textbf{DiabetesPedigreeFunction} &       0.1472  &        0.045     &     3.268  &         0.001        &        0.059    &        0.236     \\\\\n",
       "\\textbf{Age}                      &       0.0026  &        0.002     &     1.693  &         0.091        &       -0.000    &        0.006     \\\\\n",
       "\\bottomrule\n",
       "\\end{tabular}\n",
       "\\begin{tabular}{lclc}\n",
       "\\textbf{Omnibus:}       & 41.539 & \\textbf{  Durbin-Watson:     } &    1.982  \\\\\n",
       "\\textbf{Prob(Omnibus):} &  0.000 & \\textbf{  Jarque-Bera (JB):  } &   31.183  \\\\\n",
       "\\textbf{Skew:}          &  0.395 & \\textbf{  Prob(JB):          } & 1.69e-07  \\\\\n",
       "\\textbf{Kurtosis:}      &  2.408 & \\textbf{  Cond. No.          } & 1.10e+03  \\\\\n",
       "\\bottomrule\n",
       "\\end{tabular}\n",
       "%\\caption{OLS Regression Results}\n",
       "\\end{center}\n",
       "\n",
       "Notes: \\newline\n",
       " [1] Standard Errors assume that the covariance matrix of the errors is correctly specified. \\newline\n",
       " [2] The condition number is large, 1.1e+03. This might indicate that there are \\newline\n",
       " strong multicollinearity or other numerical problems."
      ],
      "text/plain": [
       "<class 'statsmodels.iolib.summary.Summary'>\n",
       "\"\"\"\n",
       "                            OLS Regression Results                            \n",
       "==============================================================================\n",
       "Dep. Variable:                Outcome   R-squared:                       0.303\n",
       "Model:                            OLS   Adj. R-squared:                  0.296\n",
       "Method:                 Least Squares   F-statistic:                     41.29\n",
       "Date:                Sun, 28 Jul 2024   Prob (F-statistic):           7.36e-55\n",
       "Time:                        18:00:27   Log-Likelihood:                -381.91\n",
       "No. Observations:                 768   AIC:                             781.8\n",
       "Df Residuals:                     759   BIC:                             823.6\n",
       "Df Model:                           8                                         \n",
       "Covariance Type:            nonrobust                                         \n",
       "============================================================================================\n",
       "                               coef    std err          t      P>|t|      [0.025      0.975]\n",
       "--------------------------------------------------------------------------------------------\n",
       "const                       -0.8539      0.085     -9.989      0.000      -1.022      -0.686\n",
       "Pregnancies                  0.0206      0.005      4.014      0.000       0.011       0.031\n",
       "Glucose                      0.0059      0.001     11.493      0.000       0.005       0.007\n",
       "BloodPressure               -0.0023      0.001     -2.873      0.004      -0.004      -0.001\n",
       "SkinThickness                0.0002      0.001      0.139      0.890      -0.002       0.002\n",
       "Insulin                     -0.0002      0.000     -1.205      0.229      -0.000       0.000\n",
       "BMI                          0.0132      0.002      6.344      0.000       0.009       0.017\n",
       "DiabetesPedigreeFunction     0.1472      0.045      3.268      0.001       0.059       0.236\n",
       "Age                          0.0026      0.002      1.693      0.091      -0.000       0.006\n",
       "==============================================================================\n",
       "Omnibus:                       41.539   Durbin-Watson:                   1.982\n",
       "Prob(Omnibus):                  0.000   Jarque-Bera (JB):               31.183\n",
       "Skew:                           0.395   Prob(JB):                     1.69e-07\n",
       "Kurtosis:                       2.408   Cond. No.                     1.10e+03\n",
       "==============================================================================\n",
       "\n",
       "Notes:\n",
       "[1] Standard Errors assume that the covariance matrix of the errors is correctly specified.\n",
       "[2] The condition number is large, 1.1e+03. This might indicate that there are\n",
       "strong multicollinearity or other numerical problems.\n",
       "\"\"\""
      ]
     },
     "execution_count": 333,
     "metadata": {},
     "output_type": "execute_result"
    }
   ],
   "source": [
    "X = data[['Pregnancies', 'Glucose', 'BloodPressure', 'SkinThickness', 'Insulin', \n",
    "          'BMI', 'DiabetesPedigreeFunction', 'Age']]\n",
    "y = data['Outcome']\n",
    "\n",
    "X = sm.add_constant(X)\n",
    "\n",
    "model = sm.OLS(y, X).fit()\n",
    "model.summary()"
   ]
  },
  {
   "cell_type": "markdown",
   "metadata": {},
   "source": [
    "# Boxplot de Glucosa por Outcome"
   ]
  },
  {
   "cell_type": "code",
   "execution_count": 335,
   "metadata": {},
   "outputs": [
    {
     "data": {
      "image/png": "[encoded data removed]",
      "text/plain": [
       "<Figure size 1200x600 with 1 Axes>"
      ]
     },
     "metadata": {},
     "output_type": "display_data"
    }
   ],
   "source": [
    "plt.figure(figsize=(12, 6))\n",
    "sns.boxplot(x='Outcome', y='Glucose', data=data)\n",
    "plt.title('Boxplot de Glucosa por Outcome')\n",
    "plt.show()"
   ]
  }
 ],
 "metadata": {
  "kernelspec": {
   "display_name": "Python 3",
   "language": "python",
   "name": "python3"
  },
  "language_info": {
   "codemirror_mode": {
    "name": "ipython",
    "version": 3
   },
   "file_extension": ".py",
   "mimetype": "text/x-python",
   "name": "python",
   "nbconvert_exporter": "python",
   "pygments_lexer": "ipython3",
   "version": "3.11.9"
  }
 },
 "nbformat": 4,
 "nbformat_minor": 2
}
