{
 "cells": [
  {
   "cell_type": "markdown",
   "metadata": {},
   "source": [
    "# Librerías utilizadas:"
   ]
  },
  {
   "cell_type": "code",
   "execution_count": 68,
   "metadata": {},
   "outputs": [],
   "source": [
    "import numpy as np\n",
    "import pandas as pd\n",
    "import scipy.stats as stats\n",
    "import matplotlib.pyplot as plt\n",
    "import statsmodels.api as sm\n"
   ]
  },
  {
   "cell_type": "markdown",
   "metadata": {},
   "source": [
    "# Importación de data set"
   ]
  },
  {
   "cell_type": "code",
   "execution_count": 69,
   "metadata": {},
   "outputs": [],
   "source": [
    "data = pd.read_csv('c:\\\\Users\\\\Nico\\\\Desktop\\\\PyE/DataSet.csv')\n",
    "control_group = data[data['Grupo'] == 'Control']['Presion_arterial_despues']\n",
    "experimental_group = data[data['Grupo'] == 'Experimental']['Presion_arterial_despues']"
   ]
  },
  {
   "cell_type": "markdown",
   "metadata": {},
   "source": [
    "# Analisis estadistico\n",
    "* Descripción de los datos: se utiliza 'groupby' y 'describe' de pandas para obtener estadisticas descriptivas de cada grupo (media, desviación estandar, percentiles, etc)."
   ]
  },
  {
   "cell_type": "code",
   "execution_count": 70,
   "metadata": {},
   "outputs": [
    {
     "data": {
      "text/html": [
       "<div>\n",
       "<style scoped>\n",
       "    .dataframe tbody tr th:only-of-type {\n",
       "        vertical-align: middle;\n",
       "    }\n",
       "\n",
       "    .dataframe tbody tr th {\n",
       "        vertical-align: top;\n",
       "    }\n",
       "\n",
       "    .dataframe thead th {\n",
       "        text-align: right;\n",
       "    }\n",
       "</style>\n",
       "<table border=\"1\" class=\"dataframe\">\n",
       "  <thead>\n",
       "    <tr style=\"text-align: right;\">\n",
       "      <th></th>\n",
       "      <th>count</th>\n",
       "      <th>mean</th>\n",
       "      <th>std</th>\n",
       "      <th>min</th>\n",
       "      <th>25%</th>\n",
       "      <th>50%</th>\n",
       "      <th>75%</th>\n",
       "      <th>max</th>\n",
       "    </tr>\n",
       "    <tr>\n",
       "      <th>Grupo</th>\n",
       "      <th></th>\n",
       "      <th></th>\n",
       "      <th></th>\n",
       "      <th></th>\n",
       "      <th></th>\n",
       "      <th></th>\n",
       "      <th></th>\n",
       "      <th></th>\n",
       "    </tr>\n",
       "  </thead>\n",
       "  <tbody>\n",
       "    <tr>\n",
       "      <th>Control</th>\n",
       "      <td>96.0</td>\n",
       "      <td>144.551668</td>\n",
       "      <td>11.203163</td>\n",
       "      <td>119.523128</td>\n",
       "      <td>137.582893</td>\n",
       "      <td>143.902696</td>\n",
       "      <td>152.557428</td>\n",
       "      <td>170.313819</td>\n",
       "    </tr>\n",
       "    <tr>\n",
       "      <th>Experimental</th>\n",
       "      <td>104.0</td>\n",
       "      <td>143.862804</td>\n",
       "      <td>13.171118</td>\n",
       "      <td>110.197581</td>\n",
       "      <td>135.738183</td>\n",
       "      <td>144.459719</td>\n",
       "      <td>153.329000</td>\n",
       "      <td>170.143959</td>\n",
       "    </tr>\n",
       "  </tbody>\n",
       "</table>\n",
       "</div>"
      ],
      "text/plain": [
       "              count        mean        std         min         25%  \\\n",
       "Grupo                                                                \n",
       "Control        96.0  144.551668  11.203163  119.523128  137.582893   \n",
       "Experimental  104.0  143.862804  13.171118  110.197581  135.738183   \n",
       "\n",
       "                     50%         75%         max  \n",
       "Grupo                                             \n",
       "Control       143.902696  152.557428  170.313819  \n",
       "Experimental  144.459719  153.329000  170.143959  "
      ]
     },
     "execution_count": 70,
     "metadata": {},
     "output_type": "execute_result"
    }
   ],
   "source": [
    "summary = data.groupby('Grupo')['Presion_arterial_despues'].describe()\n",
    "summary"
   ]
  },
  {
   "cell_type": "markdown",
   "metadata": {},
   "source": [
    "* Prueba t de Student para medias independientes: Queremos saber si la diferencia en la presión arterial entre los dos grupos es estadísticamente significativa.\n",
    "* La hipotesis nula es que no hay diferencia en las medias de los dos grupos\n",
    "* El valor 'p' indica la probabilidad de observar una diferencia al menos tan extrema como la observada, asumiendo que la hipótesis nula es verdadera. Un valor bajo (por ej. < 0.05) indica que podemos rechazar la hipótesis nula"
   ]
  },
  {
   "cell_type": "code",
   "execution_count": 71,
   "metadata": {},
   "outputs": [
    {
     "name": "stdout",
     "output_type": "stream",
     "text": [
      "T-statistic: 0.3967846793066934, P-value: 0.6919535828770337\n"
     ]
    }
   ],
   "source": [
    "t_stat, p_value = stats.ttest_ind(control_group, experimental_group)\n",
    "print(f\"T-statistic: {t_stat}, P-value: {p_value}\")"
   ]
  },
  {
   "cell_type": "markdown",
   "metadata": {},
   "source": [
    "* Intervalo de confianza para la diferencia de medias: se calcula un intervalo del 95% para la diferencia de medias utilizando la distribución normal"
   ]
  },
  {
   "cell_type": "code",
   "execution_count": 72,
   "metadata": {},
   "outputs": [
    {
     "name": "stdout",
     "output_type": "stream",
     "text": [
      "Intervalo de confianza del 95% para la media del grupo Control: (142.28169623628358, 146.82164004125755)\n",
      "Intervalo de confianza del 95% para la media del grupo Experimental: (141.30135048518773, 146.424258072683)\n"
     ]
    }
   ],
   "source": [
    "mean_control = control_group.mean()\n",
    "mean_experimental = experimental_group.mean()\n",
    "\n",
    "se_control = stats.sem(control_group)\n",
    "se_experimental = stats.sem(experimental_group)\n",
    "\n",
    "ci_control = stats.t.interval(0.95, len(control_group)-1, loc=mean_control, scale=se_control)\n",
    "ci_experimental = stats.t.interval(0.95, len(experimental_group)-1, loc=mean_experimental, scale=se_experimental)\n",
    "\n",
    "print(f\"Intervalo de confianza del 95% para la media del grupo Control: {ci_control}\")\n",
    "print(f\"Intervalo de confianza del 95% para la media del grupo Experimental: {ci_experimental}\")"
   ]
  },
  {
   "cell_type": "markdown",
   "metadata": {},
   "source": [
    "* Prueba Chi-Cuadrado para la variable categórica 'Historial_presion_alta'"
   ]
  },
  {
   "cell_type": "code",
   "execution_count": 73,
   "metadata": {},
   "outputs": [
    {
     "data": {
      "text/html": [
       "<table class=\"simpletable\">\n",
       "<caption>OLS Regression Results</caption>\n",
       "<tr>\n",
       "  <th>Dep. Variable:</th>    <td>Presion_arterial_despues</td> <th>  R-squared:         </th> <td>   0.008</td>\n",
       "</tr>\n",
       "<tr>\n",
       "  <th>Model:</th>                       <td>OLS</td>           <th>  Adj. R-squared:    </th> <td>  -0.028</td>\n",
       "</tr>\n",
       "<tr>\n",
       "  <th>Method:</th>                 <td>Least Squares</td>      <th>  F-statistic:       </th> <td>  0.2216</td>\n",
       "</tr>\n",
       "<tr>\n",
       "  <th>Date:</th>                 <td>Tue, 23 Jul 2024</td>     <th>  Prob (F-statistic):</th>  <td> 0.980</td> \n",
       "</tr>\n",
       "<tr>\n",
       "  <th>Time:</th>                     <td>12:28:12</td>         <th>  Log-Likelihood:    </th> <td> -783.43</td>\n",
       "</tr>\n",
       "<tr>\n",
       "  <th>No. Observations:</th>          <td>   200</td>          <th>  AIC:               </th> <td>   1583.</td>\n",
       "</tr>\n",
       "<tr>\n",
       "  <th>Df Residuals:</th>              <td>   192</td>          <th>  BIC:               </th> <td>   1609.</td>\n",
       "</tr>\n",
       "<tr>\n",
       "  <th>Df Model:</th>                  <td>     7</td>          <th>                     </th>     <td> </td>   \n",
       "</tr>\n",
       "<tr>\n",
       "  <th>Covariance Type:</th>          <td>nonrobust</td>        <th>                     </th>     <td> </td>   \n",
       "</tr>\n",
       "</table>\n",
       "<table class=\"simpletable\">\n",
       "<tr>\n",
       "             <td></td>               <th>coef</th>     <th>std err</th>      <th>t</th>      <th>P>|t|</th>  <th>[0.025</th>    <th>0.975]</th>  \n",
       "</tr>\n",
       "<tr>\n",
       "  <th>const</th>                  <td>  141.1954</td> <td>   14.494</td> <td>    9.742</td> <td> 0.000</td> <td>  112.608</td> <td>  169.783</td>\n",
       "</tr>\n",
       "<tr>\n",
       "  <th>Edad</th>                   <td>   -0.0416</td> <td>    0.063</td> <td>   -0.665</td> <td> 0.507</td> <td>   -0.165</td> <td>    0.082</td>\n",
       "</tr>\n",
       "<tr>\n",
       "  <th>Sexo_Masculino</th>         <td>    0.6641</td> <td>    1.767</td> <td>    0.376</td> <td> 0.708</td> <td>   -2.822</td> <td>    4.150</td>\n",
       "</tr>\n",
       "<tr>\n",
       "  <th>Historial_presion_alta</th> <td>    0.3448</td> <td>    1.781</td> <td>    0.194</td> <td> 0.847</td> <td>   -3.169</td> <td>    3.858</td>\n",
       "</tr>\n",
       "<tr>\n",
       "  <th>Dosis_medicamento</th>      <td>   -0.0559</td> <td>    0.107</td> <td>   -0.520</td> <td> 0.603</td> <td>   -0.268</td> <td>    0.156</td>\n",
       "</tr>\n",
       "<tr>\n",
       "  <th>Duracion_tratamiento</th>   <td>    0.1346</td> <td>    0.286</td> <td>    0.470</td> <td> 0.639</td> <td>   -0.430</td> <td>    0.699</td>\n",
       "</tr>\n",
       "<tr>\n",
       "  <th>Presion_arterial_antes</th> <td>    0.0354</td> <td>    0.089</td> <td>    0.399</td> <td> 0.690</td> <td>   -0.139</td> <td>    0.210</td>\n",
       "</tr>\n",
       "<tr>\n",
       "  <th>Grupo_Experimental</th>     <td>   -0.5419</td> <td>    1.805</td> <td>   -0.300</td> <td> 0.764</td> <td>   -4.103</td> <td>    3.019</td>\n",
       "</tr>\n",
       "</table>\n",
       "<table class=\"simpletable\">\n",
       "<tr>\n",
       "  <th>Omnibus:</th>       <td> 0.213</td> <th>  Durbin-Watson:     </th> <td>   2.155</td>\n",
       "</tr>\n",
       "<tr>\n",
       "  <th>Prob(Omnibus):</th> <td> 0.899</td> <th>  Jarque-Bera (JB):  </th> <td>   0.367</td>\n",
       "</tr>\n",
       "<tr>\n",
       "  <th>Skew:</th>          <td>-0.019</td> <th>  Prob(JB):          </th> <td>   0.832</td>\n",
       "</tr>\n",
       "<tr>\n",
       "  <th>Kurtosis:</th>      <td> 2.794</td> <th>  Cond. No.          </th> <td>2.66e+03</td>\n",
       "</tr>\n",
       "</table><br/><br/>Notes:<br/>[1] Standard Errors assume that the covariance matrix of the errors is correctly specified.<br/>[2] The condition number is large, 2.66e+03. This might indicate that there are<br/>strong multicollinearity or other numerical problems."
      ],
      "text/latex": [
       "\\begin{center}\n",
       "\\begin{tabular}{lclc}\n",
       "\\toprule\n",
       "\\textbf{Dep. Variable:}           & Presion\\_arterial\\_despues & \\textbf{  R-squared:         } &     0.008   \\\\\n",
       "\\textbf{Model:}                   &            OLS             & \\textbf{  Adj. R-squared:    } &    -0.028   \\\\\n",
       "\\textbf{Method:}                  &       Least Squares        & \\textbf{  F-statistic:       } &    0.2216   \\\\\n",
       "\\textbf{Date:}                    &      Tue, 23 Jul 2024      & \\textbf{  Prob (F-statistic):} &    0.980    \\\\\n",
       "\\textbf{Time:}                    &          12:28:12          & \\textbf{  Log-Likelihood:    } &   -783.43   \\\\\n",
       "\\textbf{No. Observations:}        &              200           & \\textbf{  AIC:               } &     1583.   \\\\\n",
       "\\textbf{Df Residuals:}            &              192           & \\textbf{  BIC:               } &     1609.   \\\\\n",
       "\\textbf{Df Model:}                &                7           & \\textbf{                     } &             \\\\\n",
       "\\textbf{Covariance Type:}         &         nonrobust          & \\textbf{                     } &             \\\\\n",
       "\\bottomrule\n",
       "\\end{tabular}\n",
       "\\begin{tabular}{lcccccc}\n",
       "                                  & \\textbf{coef} & \\textbf{std err} & \\textbf{t} & \\textbf{P$> |$t$|$} & \\textbf{[0.025} & \\textbf{0.975]}  \\\\\n",
       "\\midrule\n",
       "\\textbf{const}                    &     141.1954  &       14.494     &     9.742  &         0.000        &      112.608    &      169.783     \\\\\n",
       "\\textbf{Edad}                     &      -0.0416  &        0.063     &    -0.665  &         0.507        &       -0.165    &        0.082     \\\\\n",
       "\\textbf{Sexo\\_Masculino}          &       0.6641  &        1.767     &     0.376  &         0.708        &       -2.822    &        4.150     \\\\\n",
       "\\textbf{Historial\\_presion\\_alta} &       0.3448  &        1.781     &     0.194  &         0.847        &       -3.169    &        3.858     \\\\\n",
       "\\textbf{Dosis\\_medicamento}       &      -0.0559  &        0.107     &    -0.520  &         0.603        &       -0.268    &        0.156     \\\\\n",
       "\\textbf{Duracion\\_tratamiento}    &       0.1346  &        0.286     &     0.470  &         0.639        &       -0.430    &        0.699     \\\\\n",
       "\\textbf{Presion\\_arterial\\_antes} &       0.0354  &        0.089     &     0.399  &         0.690        &       -0.139    &        0.210     \\\\\n",
       "\\textbf{Grupo\\_Experimental}      &      -0.5419  &        1.805     &    -0.300  &         0.764        &       -4.103    &        3.019     \\\\\n",
       "\\bottomrule\n",
       "\\end{tabular}\n",
       "\\begin{tabular}{lclc}\n",
       "\\textbf{Omnibus:}       &  0.213 & \\textbf{  Durbin-Watson:     } &    2.155  \\\\\n",
       "\\textbf{Prob(Omnibus):} &  0.899 & \\textbf{  Jarque-Bera (JB):  } &    0.367  \\\\\n",
       "\\textbf{Skew:}          & -0.019 & \\textbf{  Prob(JB):          } &    0.832  \\\\\n",
       "\\textbf{Kurtosis:}      &  2.794 & \\textbf{  Cond. No.          } & 2.66e+03  \\\\\n",
       "\\bottomrule\n",
       "\\end{tabular}\n",
       "%\\caption{OLS Regression Results}\n",
       "\\end{center}\n",
       "\n",
       "Notes: \\newline\n",
       " [1] Standard Errors assume that the covariance matrix of the errors is correctly specified. \\newline\n",
       " [2] The condition number is large, 2.66e+03. This might indicate that there are \\newline\n",
       " strong multicollinearity or other numerical problems."
      ],
      "text/plain": [
       "<class 'statsmodels.iolib.summary.Summary'>\n",
       "\"\"\"\n",
       "                               OLS Regression Results                               \n",
       "====================================================================================\n",
       "Dep. Variable:     Presion_arterial_despues   R-squared:                       0.008\n",
       "Model:                                  OLS   Adj. R-squared:                 -0.028\n",
       "Method:                       Least Squares   F-statistic:                    0.2216\n",
       "Date:                      Tue, 23 Jul 2024   Prob (F-statistic):              0.980\n",
       "Time:                              12:28:12   Log-Likelihood:                -783.43\n",
       "No. Observations:                       200   AIC:                             1583.\n",
       "Df Residuals:                           192   BIC:                             1609.\n",
       "Df Model:                                 7                                         \n",
       "Covariance Type:                  nonrobust                                         \n",
       "==========================================================================================\n",
       "                             coef    std err          t      P>|t|      [0.025      0.975]\n",
       "------------------------------------------------------------------------------------------\n",
       "const                    141.1954     14.494      9.742      0.000     112.608     169.783\n",
       "Edad                      -0.0416      0.063     -0.665      0.507      -0.165       0.082\n",
       "Sexo_Masculino             0.6641      1.767      0.376      0.708      -2.822       4.150\n",
       "Historial_presion_alta     0.3448      1.781      0.194      0.847      -3.169       3.858\n",
       "Dosis_medicamento         -0.0559      0.107     -0.520      0.603      -0.268       0.156\n",
       "Duracion_tratamiento       0.1346      0.286      0.470      0.639      -0.430       0.699\n",
       "Presion_arterial_antes     0.0354      0.089      0.399      0.690      -0.139       0.210\n",
       "Grupo_Experimental        -0.5419      1.805     -0.300      0.764      -4.103       3.019\n",
       "==============================================================================\n",
       "Omnibus:                        0.213   Durbin-Watson:                   2.155\n",
       "Prob(Omnibus):                  0.899   Jarque-Bera (JB):                0.367\n",
       "Skew:                          -0.019   Prob(JB):                        0.832\n",
       "Kurtosis:                       2.794   Cond. No.                     2.66e+03\n",
       "==============================================================================\n",
       "\n",
       "Notes:\n",
       "[1] Standard Errors assume that the covariance matrix of the errors is correctly specified.\n",
       "[2] The condition number is large, 2.66e+03. This might indicate that there are\n",
       "strong multicollinearity or other numerical problems.\n",
       "\"\"\""
      ]
     },
     "execution_count": 73,
     "metadata": {},
     "output_type": "execute_result"
    }
   ],
   "source": [
    "data = pd.get_dummies(data, columns=['Sexo', 'Grupo'], drop_first=True)\n",
    "\n",
    "X = data[['Edad', 'Sexo_Masculino', 'Historial_presion_alta', 'Dosis_medicamento', \n",
    "          'Duracion_tratamiento', 'Presion_arterial_antes', 'Grupo_Experimental']]\n",
    "\n",
    "y = data['Presion_arterial_despues']\n",
    "\n",
    "X = sm.add_constant(X)\n",
    "\n",
    "\n",
    "model = sm.OLS(y, X.astype(float)).fit()\n",
    "\n",
    "model.summary()"
   ]
  },
  {
   "cell_type": "markdown",
   "metadata": {},
   "source": [
    "# Visualización de los resultados\n",
    "\n",
    "* Histograma de la presión arterial"
   ]
  },
  {
   "cell_type": "code",
   "execution_count": 74,
   "metadata": {},
   "outputs": [
    {
     "data": {
      "image/png": "[encoded data removed]",
      "text/plain": [
       "<Figure size 640x480 with 1 Axes>"
      ]
     },
     "metadata": {},
     "output_type": "display_data"
    }
   ],
   "source": [
    "plt.hist(control_group, alpha=0.5, label='Grupo de control')\n",
    "plt.hist(experimental_group, alpha=0.5, label='Grupo experimental')\n",
    "plt.legend(loc='upper right')\n",
    "plt.xlabel('Presion arterial')\n",
    "plt.ylabel('Frecuencia')\n",
    "plt.title('Distribucion de presion arterial')\n",
    "plt.show()"
   ]
  }
 ],
 "metadata": {
  "kernelspec": {
   "display_name": "Python 3",
   "language": "python",
   "name": "python3"
  },
  "language_info": {
   "codemirror_mode": {
    "name": "ipython",
    "version": 3
   },
   "file_extension": ".py",
   "mimetype": "text/x-python",
   "name": "python",
   "nbconvert_exporter": "python",
   "pygments_lexer": "ipython3",
   "version": "3.11.9"
  }
 },
 "nbformat": 4,
 "nbformat_minor": 2
}
