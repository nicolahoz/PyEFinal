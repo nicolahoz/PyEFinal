{
 "cells": [
  {
   "cell_type": "markdown",
   "metadata": {},
   "source": [
    "# Librerías utilizadas:"
   ]
  },
  {
   "cell_type": "code",
   "execution_count": 67,
   "metadata": {},
   "outputs": [],
   "source": [
    "import pandas as pd\n",
    "import scipy.stats as stats\n",
    "import matplotlib.pyplot as plt\n",
    "import statsmodels.api as sm\n",
    "import statsmodels.formula.api as smf\n",
    "from statsmodels.stats.anova import anova_lm\n",
    "import seaborn as sns\n",
    "from statsmodels.stats.multicomp import pairwise_tukeyhsd"
   ]
  },
  {
   "cell_type": "markdown",
   "metadata": {},
   "source": [
    "# Importación de data set"
   ]
  },
  {
   "cell_type": "code",
   "execution_count": 68,
   "metadata": {},
   "outputs": [
    {
     "data": {
      "text/html": [
       "<div>\n",
       "<style scoped>\n",
       "    .dataframe tbody tr th:only-of-type {\n",
       "        vertical-align: middle;\n",
       "    }\n",
       "\n",
       "    .dataframe tbody tr th {\n",
       "        vertical-align: top;\n",
       "    }\n",
       "\n",
       "    .dataframe thead th {\n",
       "        text-align: right;\n",
       "    }\n",
       "</style>\n",
       "<table border=\"1\" class=\"dataframe\">\n",
       "  <thead>\n",
       "    <tr style=\"text-align: right;\">\n",
       "      <th></th>\n",
       "      <th>Pregnancies</th>\n",
       "      <th>Glucose</th>\n",
       "      <th>BloodPressure</th>\n",
       "      <th>SkinThickness</th>\n",
       "      <th>Insulin</th>\n",
       "      <th>BMI</th>\n",
       "      <th>DiabetesPedigreeFunction</th>\n",
       "      <th>Age</th>\n",
       "      <th>Outcome</th>\n",
       "    </tr>\n",
       "  </thead>\n",
       "  <tbody>\n",
       "    <tr>\n",
       "      <th>3</th>\n",
       "      <td>1</td>\n",
       "      <td>89</td>\n",
       "      <td>66</td>\n",
       "      <td>23</td>\n",
       "      <td>94</td>\n",
       "      <td>28.1</td>\n",
       "      <td>0.167</td>\n",
       "      <td>21</td>\n",
       "      <td>0</td>\n",
       "    </tr>\n",
       "    <tr>\n",
       "      <th>4</th>\n",
       "      <td>0</td>\n",
       "      <td>137</td>\n",
       "      <td>40</td>\n",
       "      <td>35</td>\n",
       "      <td>168</td>\n",
       "      <td>43.1</td>\n",
       "      <td>2.288</td>\n",
       "      <td>33</td>\n",
       "      <td>1</td>\n",
       "    </tr>\n",
       "    <tr>\n",
       "      <th>6</th>\n",
       "      <td>3</td>\n",
       "      <td>78</td>\n",
       "      <td>50</td>\n",
       "      <td>32</td>\n",
       "      <td>88</td>\n",
       "      <td>31.0</td>\n",
       "      <td>0.248</td>\n",
       "      <td>26</td>\n",
       "      <td>1</td>\n",
       "    </tr>\n",
       "    <tr>\n",
       "      <th>8</th>\n",
       "      <td>2</td>\n",
       "      <td>197</td>\n",
       "      <td>70</td>\n",
       "      <td>45</td>\n",
       "      <td>543</td>\n",
       "      <td>30.5</td>\n",
       "      <td>0.158</td>\n",
       "      <td>53</td>\n",
       "      <td>1</td>\n",
       "    </tr>\n",
       "    <tr>\n",
       "      <th>13</th>\n",
       "      <td>1</td>\n",
       "      <td>189</td>\n",
       "      <td>60</td>\n",
       "      <td>23</td>\n",
       "      <td>846</td>\n",
       "      <td>30.1</td>\n",
       "      <td>0.398</td>\n",
       "      <td>59</td>\n",
       "      <td>1</td>\n",
       "    </tr>\n",
       "  </tbody>\n",
       "</table>\n",
       "</div>"
      ],
      "text/plain": [
       "    Pregnancies  Glucose  BloodPressure  SkinThickness  Insulin   BMI  \\\n",
       "3             1       89             66             23       94  28.1   \n",
       "4             0      137             40             35      168  43.1   \n",
       "6             3       78             50             32       88  31.0   \n",
       "8             2      197             70             45      543  30.5   \n",
       "13            1      189             60             23      846  30.1   \n",
       "\n",
       "    DiabetesPedigreeFunction  Age  Outcome  \n",
       "3                      0.167   21        0  \n",
       "4                      2.288   33        1  \n",
       "6                      0.248   26        1  \n",
       "8                      0.158   53        1  \n",
       "13                     0.398   59        1  "
      ]
     },
     "execution_count": 68,
     "metadata": {},
     "output_type": "execute_result"
    }
   ],
   "source": [
    "data = pd.read_csv('c:\\\\Users\\\\Nico\\\\Desktop\\\\PyE/diabetes.csv')\n",
    "data = data[(data['Insulin'] != 0) & (data['SkinThickness'] != 0) & (data['Glucose'] != 0)]\n",
    "data.head()"
   ]
  },
  {
   "cell_type": "code",
   "execution_count": 69,
   "metadata": {},
   "outputs": [
    {
     "data": {
      "text/html": [
       "<div>\n",
       "<style scoped>\n",
       "    .dataframe tbody tr th:only-of-type {\n",
       "        vertical-align: middle;\n",
       "    }\n",
       "\n",
       "    .dataframe tbody tr th {\n",
       "        vertical-align: top;\n",
       "    }\n",
       "\n",
       "    .dataframe thead th {\n",
       "        text-align: right;\n",
       "    }\n",
       "</style>\n",
       "<table border=\"1\" class=\"dataframe\">\n",
       "  <thead>\n",
       "    <tr style=\"text-align: right;\">\n",
       "      <th></th>\n",
       "      <th>Pregnancies</th>\n",
       "      <th>Glucose</th>\n",
       "      <th>BloodPressure</th>\n",
       "      <th>SkinThickness</th>\n",
       "      <th>Insulin</th>\n",
       "      <th>BMI</th>\n",
       "      <th>DiabetesPedigreeFunction</th>\n",
       "      <th>Age</th>\n",
       "      <th>Outcome</th>\n",
       "    </tr>\n",
       "  </thead>\n",
       "  <tbody>\n",
       "    <tr>\n",
       "      <th>count</th>\n",
       "      <td>393.000000</td>\n",
       "      <td>393.000000</td>\n",
       "      <td>393.000000</td>\n",
       "      <td>393.000000</td>\n",
       "      <td>393.000000</td>\n",
       "      <td>393.000000</td>\n",
       "      <td>393.000000</td>\n",
       "      <td>393.000000</td>\n",
       "      <td>393.000000</td>\n",
       "    </tr>\n",
       "    <tr>\n",
       "      <th>mean</th>\n",
       "      <td>3.292621</td>\n",
       "      <td>122.615776</td>\n",
       "      <td>70.646310</td>\n",
       "      <td>29.129771</td>\n",
       "      <td>155.885496</td>\n",
       "      <td>33.002036</td>\n",
       "      <td>0.526120</td>\n",
       "      <td>30.839695</td>\n",
       "      <td>0.330789</td>\n",
       "    </tr>\n",
       "    <tr>\n",
       "      <th>std</th>\n",
       "      <td>3.211645</td>\n",
       "      <td>30.822276</td>\n",
       "      <td>12.484668</td>\n",
       "      <td>10.507575</td>\n",
       "      <td>118.738199</td>\n",
       "      <td>7.214395</td>\n",
       "      <td>0.350386</td>\n",
       "      <td>10.199903</td>\n",
       "      <td>0.471097</td>\n",
       "    </tr>\n",
       "    <tr>\n",
       "      <th>min</th>\n",
       "      <td>0.000000</td>\n",
       "      <td>56.000000</td>\n",
       "      <td>24.000000</td>\n",
       "      <td>7.000000</td>\n",
       "      <td>14.000000</td>\n",
       "      <td>0.000000</td>\n",
       "      <td>0.085000</td>\n",
       "      <td>21.000000</td>\n",
       "      <td>0.000000</td>\n",
       "    </tr>\n",
       "    <tr>\n",
       "      <th>25%</th>\n",
       "      <td>1.000000</td>\n",
       "      <td>99.000000</td>\n",
       "      <td>62.000000</td>\n",
       "      <td>21.000000</td>\n",
       "      <td>77.000000</td>\n",
       "      <td>28.400000</td>\n",
       "      <td>0.270000</td>\n",
       "      <td>23.000000</td>\n",
       "      <td>0.000000</td>\n",
       "    </tr>\n",
       "    <tr>\n",
       "      <th>50%</th>\n",
       "      <td>2.000000</td>\n",
       "      <td>119.000000</td>\n",
       "      <td>70.000000</td>\n",
       "      <td>29.000000</td>\n",
       "      <td>125.000000</td>\n",
       "      <td>33.200000</td>\n",
       "      <td>0.452000</td>\n",
       "      <td>27.000000</td>\n",
       "      <td>0.000000</td>\n",
       "    </tr>\n",
       "    <tr>\n",
       "      <th>75%</th>\n",
       "      <td>5.000000</td>\n",
       "      <td>143.000000</td>\n",
       "      <td>78.000000</td>\n",
       "      <td>37.000000</td>\n",
       "      <td>190.000000</td>\n",
       "      <td>37.100000</td>\n",
       "      <td>0.687000</td>\n",
       "      <td>36.000000</td>\n",
       "      <td>1.000000</td>\n",
       "    </tr>\n",
       "    <tr>\n",
       "      <th>max</th>\n",
       "      <td>17.000000</td>\n",
       "      <td>198.000000</td>\n",
       "      <td>110.000000</td>\n",
       "      <td>63.000000</td>\n",
       "      <td>846.000000</td>\n",
       "      <td>67.100000</td>\n",
       "      <td>2.420000</td>\n",
       "      <td>81.000000</td>\n",
       "      <td>1.000000</td>\n",
       "    </tr>\n",
       "  </tbody>\n",
       "</table>\n",
       "</div>"
      ],
      "text/plain": [
       "       Pregnancies     Glucose  BloodPressure  SkinThickness     Insulin  \\\n",
       "count   393.000000  393.000000     393.000000     393.000000  393.000000   \n",
       "mean      3.292621  122.615776      70.646310      29.129771  155.885496   \n",
       "std       3.211645   30.822276      12.484668      10.507575  118.738199   \n",
       "min       0.000000   56.000000      24.000000       7.000000   14.000000   \n",
       "25%       1.000000   99.000000      62.000000      21.000000   77.000000   \n",
       "50%       2.000000  119.000000      70.000000      29.000000  125.000000   \n",
       "75%       5.000000  143.000000      78.000000      37.000000  190.000000   \n",
       "max      17.000000  198.000000     110.000000      63.000000  846.000000   \n",
       "\n",
       "              BMI  DiabetesPedigreeFunction         Age     Outcome  \n",
       "count  393.000000                393.000000  393.000000  393.000000  \n",
       "mean    33.002036                  0.526120   30.839695    0.330789  \n",
       "std      7.214395                  0.350386   10.199903    0.471097  \n",
       "min      0.000000                  0.085000   21.000000    0.000000  \n",
       "25%     28.400000                  0.270000   23.000000    0.000000  \n",
       "50%     33.200000                  0.452000   27.000000    0.000000  \n",
       "75%     37.100000                  0.687000   36.000000    1.000000  \n",
       "max     67.100000                  2.420000   81.000000    1.000000  "
      ]
     },
     "execution_count": 69,
     "metadata": {},
     "output_type": "execute_result"
    }
   ],
   "source": [
    "data.describe()"
   ]
  },
  {
   "cell_type": "markdown",
   "metadata": {},
   "source": [
    "# Visualización de la distribución de variables\n",
    "* Histograma de las distintas variables"
   ]
  },
  {
   "cell_type": "code",
   "execution_count": 70,
   "metadata": {},
   "outputs": [
    {
     "data": {
      "image/png": "[encoded data removed]",
      "text/plain": [
       "<Figure size 1400x1000 with 9 Axes>"
      ]
     },
     "metadata": {},
     "output_type": "display_data"
    }
   ],
   "source": [
    "data.hist(bins=20, figsize=(14,10))\n",
    "plt.show()"
   ]
  },
  {
   "cell_type": "markdown",
   "metadata": {},
   "source": [
    "# Prueba T-Student"
   ]
  },
  {
   "cell_type": "code",
   "execution_count": 71,
   "metadata": {},
   "outputs": [
    {
     "name": "stdout",
     "output_type": "stream",
     "text": [
      "T-statistic: -11.152889103682549, P-value: 3.767590913746811e-23\n"
     ]
    }
   ],
   "source": [
    "outcome_0 = data[data['Outcome'] == 0]\n",
    "outcome_1 = data[data['Outcome'] == 1]\n",
    "\n",
    "t_stat, p_val = stats.ttest_ind(outcome_0['Glucose'], outcome_1['Glucose'], equal_var=False)\n",
    "print(f'T-statistic: {t_stat}, P-value: {p_val}')"
   ]
  },
  {
   "cell_type": "code",
   "execution_count": 72,
   "metadata": {},
   "outputs": [
    {
     "data": {
      "text/plain": [
       "-11.152889103682549"
      ]
     },
     "execution_count": 72,
     "metadata": {},
     "output_type": "execute_result"
    }
   ],
   "source": [
    "import numpy as np\n",
    "\n",
    "mean_0 = np.mean(outcome_0['Glucose'])\n",
    "mean_1 = np.mean(outcome_1['Glucose'])\n",
    "\n",
    "std_0 = np.std(outcome_0['Glucose'], ddof=1)\n",
    "std_1 = np.std(outcome_1['Glucose'], ddof=1)\n",
    "\n",
    "n_0 = len(outcome_0['Glucose'])\n",
    "n_1 = len(outcome_1['Glucose'])\n",
    "\n",
    "t_stat_manual = (mean_0 - mean_1) / np.sqrt((std_0**2 / n_0) + (std_1**2 / n_1))\n",
    "\n",
    "t_stat_manual"
   ]
  },
  {
   "cell_type": "code",
   "execution_count": 73,
   "metadata": {},
   "outputs": [
    {
     "data": {
      "text/plain": [
       "3.767590913746865e-23"
      ]
     },
     "execution_count": 73,
     "metadata": {},
     "output_type": "execute_result"
    }
   ],
   "source": [
    "numerator = ((std_0**2 / n_0) + (std_1**2 / n_1))**2\n",
    "denominator = ((std_0**2 / n_0)**2 / (n_0 - 1)) + ((std_1**2 / n_1)**2 / (n_1 - 1))\n",
    "df = numerator / denominator\n",
    "\n",
    "p_value_manual = stats.t.cdf(t_stat_manual, df) * 2  \n",
    "\n",
    "p_value_manual\n"
   ]
  },
  {
   "cell_type": "markdown",
   "metadata": {},
   "source": [
    "# Prueba Chi-Cuadrado\n"
   ]
  },
  {
   "cell_type": "code",
   "execution_count": 74,
   "metadata": {},
   "outputs": [
    {
     "name": "stdout",
     "output_type": "stream",
     "text": [
      "Outcome        0   1\n",
      "Glucose_Cat         \n",
      "<=100        105  11\n",
      "101-150      136  61\n",
      ">150          22  58\n",
      "\n",
      "Chi2: 85.73470672148675, P-value: 2.415154852443532e-19\n",
      "\n"
     ]
    }
   ],
   "source": [
    "data['Glucose_Cat'] = pd.cut(data['Glucose'], bins=[0, 100, 150, data['Glucose'].max() + 1], labels=['<=100', '101-150', '>150'])\n",
    "\n",
    "contingency_table_glucose = pd.crosstab(data['Glucose_Cat'], data['Outcome'])\n",
    "chi2_glucose, p_glucose, dof_glucose, expected_glucose = stats.chi2_contingency(contingency_table_glucose)\n",
    "\n",
    "print(contingency_table_glucose)\n",
    "print(f\"\\nChi2: {chi2_glucose}, P-value: {p_glucose}\\n\")"
   ]
  },
  {
   "cell_type": "code",
   "execution_count": 75,
   "metadata": {},
   "outputs": [
    {
     "name": "stdout",
     "output_type": "stream",
     "text": [
      "Frecuencias Observadas:\n",
      "[[191  18]\n",
      " [271 143]\n",
      " [ 35 105]]\n",
      "\n",
      "Frecuencias Esperadas:\n",
      "[[136.13761468  72.86238532]\n",
      " [269.66972477 144.33027523]\n",
      " [ 91.19266055  48.80733945]]\n",
      "\n",
      "Chi2: 162.7583125903085\n",
      "P-value: 0.0\n",
      "Grados de Libertad (dof): 2\n"
     ]
    }
   ],
   "source": [
    "\n",
    "observed = np.array([\n",
    "    [191, 18],\n",
    "    [271, 143],\n",
    "    [35, 105]\n",
    "])\n",
    "\n",
    "row_totals = observed.sum(axis=1)\n",
    "col_totals = observed.sum(axis=0)\n",
    "total = observed.sum()\n",
    "\n",
    "expected = np.outer(row_totals, col_totals) / total\n",
    "\n",
    "chi2_value = ((observed - expected) ** 2 / expected).sum()\n",
    "\n",
    "dof = (observed.shape[0] - 1) * (observed.shape[1] - 1)\n",
    "\n",
    "p_value = 1 - stats.chi2.cdf(chi2_value, dof)\n",
    "\n",
    "print(f\"Frecuencias Observadas:\\n{observed}\\n\")\n",
    "print(f\"Frecuencias Esperadas:\\n{expected}\\n\")\n",
    "print(f\"Chi2: {chi2_value}\")\n",
    "print(f\"P-value: {p_value}\")\n",
    "print(f\"Grados de Libertad (dof): {dof}\")"
   ]
  },
  {
   "cell_type": "markdown",
   "metadata": {},
   "source": [
    "# Regresión lineal"
   ]
  },
  {
   "cell_type": "code",
   "execution_count": 76,
   "metadata": {},
   "outputs": [
    {
     "data": {
      "text/html": [
       "<table class=\"simpletable\">\n",
       "<caption>OLS Regression Results</caption>\n",
       "<tr>\n",
       "  <th>Dep. Variable:</th>         <td>Outcome</td>     <th>  R-squared:         </th> <td>   0.347</td>\n",
       "</tr>\n",
       "<tr>\n",
       "  <th>Model:</th>                   <td>OLS</td>       <th>  Adj. R-squared:    </th> <td>   0.333</td>\n",
       "</tr>\n",
       "<tr>\n",
       "  <th>Method:</th>             <td>Least Squares</td>  <th>  F-statistic:       </th> <td>   25.45</td>\n",
       "</tr>\n",
       "<tr>\n",
       "  <th>Date:</th>             <td>Sun, 28 Jul 2024</td> <th>  Prob (F-statistic):</th> <td>1.74e-31</td>\n",
       "</tr>\n",
       "<tr>\n",
       "  <th>Time:</th>                 <td>20:22:43</td>     <th>  Log-Likelihood:    </th> <td> -177.73</td>\n",
       "</tr>\n",
       "<tr>\n",
       "  <th>No. Observations:</th>      <td>   393</td>      <th>  AIC:               </th> <td>   373.5</td>\n",
       "</tr>\n",
       "<tr>\n",
       "  <th>Df Residuals:</th>          <td>   384</td>      <th>  BIC:               </th> <td>   409.2</td>\n",
       "</tr>\n",
       "<tr>\n",
       "  <th>Df Model:</th>              <td>     8</td>      <th>                     </th>     <td> </td>   \n",
       "</tr>\n",
       "<tr>\n",
       "  <th>Covariance Type:</th>      <td>nonrobust</td>    <th>                     </th>     <td> </td>   \n",
       "</tr>\n",
       "</table>\n",
       "<table class=\"simpletable\">\n",
       "<tr>\n",
       "              <td></td>                <th>coef</th>     <th>std err</th>      <th>t</th>      <th>P>|t|</th>  <th>[0.025</th>    <th>0.975]</th>  \n",
       "</tr>\n",
       "<tr>\n",
       "  <th>const</th>                    <td>   -1.1058</td> <td>    0.143</td> <td>   -7.759</td> <td> 0.000</td> <td>   -1.386</td> <td>   -0.826</td>\n",
       "</tr>\n",
       "<tr>\n",
       "  <th>Pregnancies</th>              <td>    0.0130</td> <td>    0.008</td> <td>    1.561</td> <td> 0.119</td> <td>   -0.003</td> <td>    0.029</td>\n",
       "</tr>\n",
       "<tr>\n",
       "  <th>Glucose</th>                  <td>    0.0064</td> <td>    0.001</td> <td>    7.862</td> <td> 0.000</td> <td>    0.005</td> <td>    0.008</td>\n",
       "</tr>\n",
       "<tr>\n",
       "  <th>BloodPressure</th>            <td> 2.939e-05</td> <td>    0.002</td> <td>    0.017</td> <td> 0.986</td> <td>   -0.003</td> <td>    0.003</td>\n",
       "</tr>\n",
       "<tr>\n",
       "  <th>SkinThickness</th>            <td>    0.0016</td> <td>    0.002</td> <td>    0.644</td> <td> 0.520</td> <td>   -0.003</td> <td>    0.006</td>\n",
       "</tr>\n",
       "<tr>\n",
       "  <th>Insulin</th>                  <td>   -0.0001</td> <td>    0.000</td> <td>   -0.603</td> <td> 0.547</td> <td>   -0.001</td> <td>    0.000</td>\n",
       "</tr>\n",
       "<tr>\n",
       "  <th>BMI</th>                      <td>    0.0096</td> <td>    0.004</td> <td>    2.572</td> <td> 0.010</td> <td>    0.002</td> <td>    0.017</td>\n",
       "</tr>\n",
       "<tr>\n",
       "  <th>DiabetesPedigreeFunction</th> <td>    0.1550</td> <td>    0.057</td> <td>    2.726</td> <td> 0.007</td> <td>    0.043</td> <td>    0.267</td>\n",
       "</tr>\n",
       "<tr>\n",
       "  <th>Age</th>                      <td>    0.0059</td> <td>    0.003</td> <td>    2.122</td> <td> 0.035</td> <td>    0.000</td> <td>    0.011</td>\n",
       "</tr>\n",
       "</table>\n",
       "<table class=\"simpletable\">\n",
       "<tr>\n",
       "  <th>Omnibus:</th>       <td> 9.492</td> <th>  Durbin-Watson:     </th> <td>   1.921</td>\n",
       "</tr>\n",
       "<tr>\n",
       "  <th>Prob(Omnibus):</th> <td> 0.009</td> <th>  Jarque-Bera (JB):  </th> <td>   9.399</td>\n",
       "</tr>\n",
       "<tr>\n",
       "  <th>Skew:</th>          <td> 0.345</td> <th>  Prob(JB):          </th> <td> 0.00910</td>\n",
       "</tr>\n",
       "<tr>\n",
       "  <th>Kurtosis:</th>      <td> 2.687</td> <th>  Cond. No.          </th> <td>1.77e+03</td>\n",
       "</tr>\n",
       "</table><br/><br/>Notes:<br/>[1] Standard Errors assume that the covariance matrix of the errors is correctly specified.<br/>[2] The condition number is large, 1.77e+03. This might indicate that there are<br/>strong multicollinearity or other numerical problems."
      ],
      "text/latex": [
       "\\begin{center}\n",
       "\\begin{tabular}{lclc}\n",
       "\\toprule\n",
       "\\textbf{Dep. Variable:}           &     Outcome      & \\textbf{  R-squared:         } &     0.347   \\\\\n",
       "\\textbf{Model:}                   &       OLS        & \\textbf{  Adj. R-squared:    } &     0.333   \\\\\n",
       "\\textbf{Method:}                  &  Least Squares   & \\textbf{  F-statistic:       } &     25.45   \\\\\n",
       "\\textbf{Date:}                    & Sun, 28 Jul 2024 & \\textbf{  Prob (F-statistic):} &  1.74e-31   \\\\\n",
       "\\textbf{Time:}                    &     20:22:43     & \\textbf{  Log-Likelihood:    } &   -177.73   \\\\\n",
       "\\textbf{No. Observations:}        &         393      & \\textbf{  AIC:               } &     373.5   \\\\\n",
       "\\textbf{Df Residuals:}            &         384      & \\textbf{  BIC:               } &     409.2   \\\\\n",
       "\\textbf{Df Model:}                &           8      & \\textbf{                     } &             \\\\\n",
       "\\textbf{Covariance Type:}         &    nonrobust     & \\textbf{                     } &             \\\\\n",
       "\\bottomrule\n",
       "\\end{tabular}\n",
       "\\begin{tabular}{lcccccc}\n",
       "                                  & \\textbf{coef} & \\textbf{std err} & \\textbf{t} & \\textbf{P$> |$t$|$} & \\textbf{[0.025} & \\textbf{0.975]}  \\\\\n",
       "\\midrule\n",
       "\\textbf{const}                    &      -1.1058  &        0.143     &    -7.759  &         0.000        &       -1.386    &       -0.826     \\\\\n",
       "\\textbf{Pregnancies}              &       0.0130  &        0.008     &     1.561  &         0.119        &       -0.003    &        0.029     \\\\\n",
       "\\textbf{Glucose}                  &       0.0064  &        0.001     &     7.862  &         0.000        &        0.005    &        0.008     \\\\\n",
       "\\textbf{BloodPressure}            &    2.939e-05  &        0.002     &     0.017  &         0.986        &       -0.003    &        0.003     \\\\\n",
       "\\textbf{SkinThickness}            &       0.0016  &        0.002     &     0.644  &         0.520        &       -0.003    &        0.006     \\\\\n",
       "\\textbf{Insulin}                  &      -0.0001  &        0.000     &    -0.603  &         0.547        &       -0.001    &        0.000     \\\\\n",
       "\\textbf{BMI}                      &       0.0096  &        0.004     &     2.572  &         0.010        &        0.002    &        0.017     \\\\\n",
       "\\textbf{DiabetesPedigreeFunction} &       0.1550  &        0.057     &     2.726  &         0.007        &        0.043    &        0.267     \\\\\n",
       "\\textbf{Age}                      &       0.0059  &        0.003     &     2.122  &         0.035        &        0.000    &        0.011     \\\\\n",
       "\\bottomrule\n",
       "\\end{tabular}\n",
       "\\begin{tabular}{lclc}\n",
       "\\textbf{Omnibus:}       &  9.492 & \\textbf{  Durbin-Watson:     } &    1.921  \\\\\n",
       "\\textbf{Prob(Omnibus):} &  0.009 & \\textbf{  Jarque-Bera (JB):  } &    9.399  \\\\\n",
       "\\textbf{Skew:}          &  0.345 & \\textbf{  Prob(JB):          } &  0.00910  \\\\\n",
       "\\textbf{Kurtosis:}      &  2.687 & \\textbf{  Cond. No.          } & 1.77e+03  \\\\\n",
       "\\bottomrule\n",
       "\\end{tabular}\n",
       "%\\caption{OLS Regression Results}\n",
       "\\end{center}\n",
       "\n",
       "Notes: \\newline\n",
       " [1] Standard Errors assume that the covariance matrix of the errors is correctly specified. \\newline\n",
       " [2] The condition number is large, 1.77e+03. This might indicate that there are \\newline\n",
       " strong multicollinearity or other numerical problems."
      ],
      "text/plain": [
       "<class 'statsmodels.iolib.summary.Summary'>\n",
       "\"\"\"\n",
       "                            OLS Regression Results                            \n",
       "==============================================================================\n",
       "Dep. Variable:                Outcome   R-squared:                       0.347\n",
       "Model:                            OLS   Adj. R-squared:                  0.333\n",
       "Method:                 Least Squares   F-statistic:                     25.45\n",
       "Date:                Sun, 28 Jul 2024   Prob (F-statistic):           1.74e-31\n",
       "Time:                        20:22:43   Log-Likelihood:                -177.73\n",
       "No. Observations:                 393   AIC:                             373.5\n",
       "Df Residuals:                     384   BIC:                             409.2\n",
       "Df Model:                           8                                         \n",
       "Covariance Type:            nonrobust                                         \n",
       "============================================================================================\n",
       "                               coef    std err          t      P>|t|      [0.025      0.975]\n",
       "--------------------------------------------------------------------------------------------\n",
       "const                       -1.1058      0.143     -7.759      0.000      -1.386      -0.826\n",
       "Pregnancies                  0.0130      0.008      1.561      0.119      -0.003       0.029\n",
       "Glucose                      0.0064      0.001      7.862      0.000       0.005       0.008\n",
       "BloodPressure             2.939e-05      0.002      0.017      0.986      -0.003       0.003\n",
       "SkinThickness                0.0016      0.002      0.644      0.520      -0.003       0.006\n",
       "Insulin                     -0.0001      0.000     -0.603      0.547      -0.001       0.000\n",
       "BMI                          0.0096      0.004      2.572      0.010       0.002       0.017\n",
       "DiabetesPedigreeFunction     0.1550      0.057      2.726      0.007       0.043       0.267\n",
       "Age                          0.0059      0.003      2.122      0.035       0.000       0.011\n",
       "==============================================================================\n",
       "Omnibus:                        9.492   Durbin-Watson:                   1.921\n",
       "Prob(Omnibus):                  0.009   Jarque-Bera (JB):                9.399\n",
       "Skew:                           0.345   Prob(JB):                      0.00910\n",
       "Kurtosis:                       2.687   Cond. No.                     1.77e+03\n",
       "==============================================================================\n",
       "\n",
       "Notes:\n",
       "[1] Standard Errors assume that the covariance matrix of the errors is correctly specified.\n",
       "[2] The condition number is large, 1.77e+03. This might indicate that there are\n",
       "strong multicollinearity or other numerical problems.\n",
       "\"\"\""
      ]
     },
     "execution_count": 76,
     "metadata": {},
     "output_type": "execute_result"
    }
   ],
   "source": [
    "X = data[['Pregnancies', 'Glucose', 'BloodPressure', 'SkinThickness', 'Insulin', \n",
    "          'BMI', 'DiabetesPedigreeFunction', 'Age']]\n",
    "y = data['Outcome']\n",
    "\n",
    "X = sm.add_constant(X)\n",
    "\n",
    "model = sm.OLS(y, X).fit()\n",
    "model.summary()"
   ]
  },
  {
   "cell_type": "markdown",
   "metadata": {},
   "source": [
    "# Boxplot de Glucosa por Outcome"
   ]
  },
  {
   "cell_type": "code",
   "execution_count": 77,
   "metadata": {},
   "outputs": [
    {
     "data": {
      "image/png": "[encoded data removed]",
      "text/plain": [
       "<Figure size 1200x600 with 1 Axes>"
      ]
     },
     "metadata": {},
     "output_type": "display_data"
    }
   ],
   "source": [
    "plt.figure(figsize=(12, 6))\n",
    "sns.boxplot(x='Outcome', y='Glucose', data=data)\n",
    "plt.title('Boxplot de Glucosa por Outcome')\n",
    "plt.show()"
   ]
  }
 ],
 "metadata": {
  "kernelspec": {
   "display_name": "Python 3",
   "language": "python",
   "name": "python3"
  },
  "language_info": {
   "codemirror_mode": {
    "name": "ipython",
    "version": 3
   },
   "file_extension": ".py",
   "mimetype": "text/x-python",
   "name": "python",
   "nbconvert_exporter": "python",
   "pygments_lexer": "ipython3",
   "version": "3.11.9"
  }
 },
 "nbformat": 4,
 "nbformat_minor": 2
}
